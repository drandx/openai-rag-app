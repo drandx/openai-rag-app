{
 "cells": [
  {
   "cell_type": "code",
   "execution_count": 1,
   "metadata": {},
   "outputs": [],
   "source": [
    "import os\n",
    "from dotenv import load_dotenv\n",
    "\n",
    "load_dotenv()\n",
    "\n",
    "OPENAI_API_KEY = os.getenv(\"OPENAI_API_KEY\")\n",
    "\n",
    "YOUTUBE_VIDEO = \"https://www.youtube.com/watch?v=BblV6AQsd2s&ab_channel=RiseAgainstVEVO\""
   ]
  },
  {
   "cell_type": "markdown",
   "metadata": {},
   "source": [
    "# Setting up the model\n",
    "Define the LLM model to use"
   ]
  },
  {
   "cell_type": "code",
   "execution_count": 2,
   "metadata": {},
   "outputs": [
    {
     "data": {
      "text/plain": [
       "AIMessage(content='There is currently no definitive evidence to prove or disprove the idea that we are living in a simulation. Some scientists and philosophers have put forward the theory that our reality could be a computer-generated simulation created by a more advanced civilization, similar to the concept portrayed in the movie \"The Matrix.\" However, this is purely speculative and remains a topic of debate and exploration in the scientific community.', response_metadata={'finish_reason': 'stop', 'logprobs': None})"
      ]
     },
     "execution_count": 2,
     "metadata": {},
     "output_type": "execute_result"
    }
   ],
   "source": [
    "from langchain_openai.chat_models import ChatOpenAI\n",
    "\n",
    "model = ChatOpenAI(openai_api_key=OPENAI_API_KEY, model=\"gpt-3.5-turbo\")\n",
    "\n",
    "model.invoke(\"Are we in a simulation?\")"
   ]
  },
  {
   "cell_type": "markdown",
   "metadata": {},
   "source": [
    "# Using the magic of Chains :)"
   ]
  },
  {
   "cell_type": "code",
   "execution_count": 3,
   "metadata": {},
   "outputs": [
    {
     "data": {
      "text/plain": [
       "'There is currently no definitive evidence to prove or disprove the idea that we are living in a simulation. It is a concept that has been explored by scientists, philosophers, and technologists, but ultimately remains a theoretical possibility. Without concrete evidence, it is up to individual interpretation and belief.'"
      ]
     },
     "execution_count": 3,
     "metadata": {},
     "output_type": "execute_result"
    }
   ],
   "source": [
    "from langchain_core.output_parsers import StrOutputParser\n",
    "\n",
    "parser = StrOutputParser()\n",
    "\n",
    "# Chain example\n",
    "chain = model | parser\n",
    "\n",
    "chain.invoke(\"Are we in a simulation?\")"
   ]
  },
  {
   "cell_type": "markdown",
   "metadata": {},
   "source": [
    "# Using prompt templates"
   ]
  },
  {
   "cell_type": "code",
   "execution_count": 4,
   "metadata": {},
   "outputs": [
    {
     "name": "stdout",
     "output_type": "stream",
     "text": [
      "Human: \n",
      "  Answer the question based on the context below. If you can't\n",
      "  answer the question, just say \"I don't know\".\n",
      "\n",
      "  Context: The sky is blue.\n",
      "\n",
      "  Question: What color is the sky?\n",
      "  \n",
      "Did it work?\n"
     ]
    },
    {
     "data": {
      "text/plain": [
       "'No, you have an appointment at 3pm tomorrow.'"
      ]
     },
     "execution_count": 4,
     "metadata": {},
     "output_type": "execute_result"
    }
   ],
   "source": [
    "from langchain_core.prompts import ChatPromptTemplate\n",
    "\n",
    "template = \"\"\"\n",
    "  Answer the question based on the context below. If you can't\n",
    "  answer the question, just say \"I don't know\".\n",
    "\n",
    "  Context: {context}\n",
    "\n",
    "  Question: {question}\n",
    "  \"\"\"\n",
    "\n",
    "prompt = ChatPromptTemplate.from_template(template)\n",
    "print(prompt.format(context=\"The sky is blue.\", question=\"What color is the sky?\"))\n",
    "\n",
    "print(\"Did it work?\")\n",
    "\n",
    "chain = prompt | model | parser\n",
    "chain.invoke({\n",
    "  \"context\": \"I have an appointment tomorrow at 3pm.\", \n",
    "  \"question\": \"Can I go for lunch tomorrow at 3:00PM?\"\n",
    "})"
   ]
  },
  {
   "cell_type": "markdown",
   "metadata": {},
   "source": [
    "# Combining Chains"
   ]
  },
  {
   "cell_type": "code",
   "execution_count": 7,
   "metadata": {},
   "outputs": [
    {
     "data": {
      "text/plain": [
       "'Respuesta: No, tienes una cita a las 3pm mañana.'"
      ]
     },
     "execution_count": 7,
     "metadata": {},
     "output_type": "execute_result"
    }
   ],
   "source": [
    "from operator import itemgetter\n",
    "\n",
    "translation_template = \"\"\"\n",
    "  Translate the \n",
    "\n",
    "  answer: {answer}\n",
    "\n",
    "  to\n",
    "\n",
    "  language: {language}\n",
    "  \"\"\"\n",
    "\n",
    "translation_prompt = ChatPromptTemplate.from_template(translation_template)\n",
    "\n",
    "translation_chain = (\n",
    "  {\"answer\": chain, \"language\": itemgetter(\"language\") } | translation_prompt | model | parser\n",
    ")\n",
    "\n",
    "translation_chain.invoke({\n",
    "  \"context\": \"I have an appointment tomorrow at 3pm.\", \n",
    "  \"question\": \"Can I go for lunch tomorrow at 3:00PM?\",\n",
    "  \"language\": \"es\"\n",
    "})\n"
   ]
  }
 ],
 "metadata": {
  "kernelspec": {
   "display_name": "Python 3",
   "language": "python",
   "name": "python3"
  },
  "language_info": {
   "codemirror_mode": {
    "name": "ipython",
    "version": 3
   },
   "file_extension": ".py",
   "mimetype": "text/x-python",
   "name": "python",
   "nbconvert_exporter": "python",
   "pygments_lexer": "ipython3",
   "version": "3.12.2"
  }
 },
 "nbformat": 4,
 "nbformat_minor": 2
}
