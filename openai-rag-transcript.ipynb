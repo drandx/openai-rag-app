{
 "cells": [
  {
   "cell_type": "code",
   "execution_count": 6,
   "metadata": {},
   "outputs": [],
   "source": [
    "import os\n",
    "from dotenv import load_dotenv\n",
    "\n",
    "load_dotenv()\n",
    "\n",
    "OPENAI_API_KEY = os.getenv(\"OPENAI_API_KEY\")\n",
    "\n",
    "YOUTUBE_VIDEO = \"https://www.youtube.com/watch?v=BblV6AQsd2s&ab_channel=RiseAgainstVEVO\""
   ]
  },
  {
   "cell_type": "markdown",
   "metadata": {},
   "source": [
    "### Setting up the model\n",
    "Define the LLM model to use"
   ]
  },
  {
   "cell_type": "code",
   "execution_count": 7,
   "metadata": {},
   "outputs": [
    {
     "data": {
      "text/plain": [
       "AIMessage(content='There is currently no scientific evidence to definitively prove or disprove the idea that we are living in a simulation. The concept of a simulated reality is a philosophical and theoretical idea that has been explored by various thinkers and scientists, but it remains a topic of speculation and debate. Ultimately, the question of whether or not we are in a simulation may never be definitively answered.', response_metadata={'finish_reason': 'stop', 'logprobs': None})"
      ]
     },
     "execution_count": 7,
     "metadata": {},
     "output_type": "execute_result"
    }
   ],
   "source": [
    "from langchain_openai.chat_models import ChatOpenAI\n",
    "\n",
    "model = ChatOpenAI(openai_api_key=OPENAI_API_KEY, model=\"gpt-3.5-turbo\")\n",
    "\n",
    "model.invoke(\"Are we in a simulation?\")"
   ]
  },
  {
   "cell_type": "markdown",
   "metadata": {},
   "source": [
    "### Using the magic of Chains :)"
   ]
  },
  {
   "cell_type": "code",
   "execution_count": 8,
   "metadata": {},
   "outputs": [
    {
     "data": {
      "text/plain": [
       "'There is no definitive answer to this question as it is still a topic of debate among scientists, philosophers, and theorists. Some believe that it is possible that we are living in a simulation created by a higher intelligence or advanced civilization, while others argue that there is no concrete evidence to support this theory. Ultimately, it is up to individual interpretation and belief.'"
      ]
     },
     "execution_count": 8,
     "metadata": {},
     "output_type": "execute_result"
    }
   ],
   "source": [
    "from langchain_core.output_parsers import StrOutputParser\n",
    "\n",
    "parser = StrOutputParser()\n",
    "\n",
    "# Chain example\n",
    "chain = model | parser\n",
    "\n",
    "chain.invoke(\"Are we in a simulation?\")"
   ]
  },
  {
   "cell_type": "markdown",
   "metadata": {},
   "source": [
    "### Using prompt templates"
   ]
  },
  {
   "cell_type": "code",
   "execution_count": 9,
   "metadata": {},
   "outputs": [
    {
     "name": "stdout",
     "output_type": "stream",
     "text": [
      "Human: \n",
      "  Answer the question based on the context below. If you can't\n",
      "  answer the question, just say \"I don't know\".\n",
      "\n",
      "  Context: The sky is blue.\n",
      "\n",
      "  Question: What color is the sky?\n",
      "  \n",
      "Did it work?\n"
     ]
    },
    {
     "data": {
      "text/plain": [
       "\"No, it's not advisable to go for lunch at 3:00PM since you have an appointment at that time.\""
      ]
     },
     "execution_count": 9,
     "metadata": {},
     "output_type": "execute_result"
    }
   ],
   "source": [
    "from langchain_core.prompts import ChatPromptTemplate\n",
    "\n",
    "template = \"\"\"\n",
    "  Answer the question based on the context below. If you can't\n",
    "  answer the question, just say \"I don't know\".\n",
    "\n",
    "  Context: {context}\n",
    "\n",
    "  Question: {question}\n",
    "  \"\"\"\n",
    "\n",
    "prompt = ChatPromptTemplate.from_template(template)\n",
    "print(prompt.format(context=\"The sky is blue.\", question=\"What color is the sky?\"))\n",
    "\n",
    "print(\"Did it work?\")\n",
    "\n",
    "chain = prompt | model | parser\n",
    "chain.invoke({\n",
    "  \"context\": \"I have an appointment tomorrow at 3pm.\", \n",
    "  \"question\": \"Can I go for lunch tomorrow at 3:00PM?\"\n",
    "})"
   ]
  },
  {
   "cell_type": "markdown",
   "metadata": {},
   "source": [
    "### Combining Chains"
   ]
  },
  {
   "cell_type": "code",
   "execution_count": 10,
   "metadata": {},
   "outputs": [
    {
     "data": {
      "text/plain": [
       "'Respuesta: No, tienes una cita a las 3pm mañana.'"
      ]
     },
     "execution_count": 10,
     "metadata": {},
     "output_type": "execute_result"
    }
   ],
   "source": [
    "from operator import itemgetter\n",
    "\n",
    "translation_template = \"\"\"\n",
    "  Translate the \n",
    "\n",
    "  answer: {answer}\n",
    "\n",
    "  to\n",
    "\n",
    "  language: {language}\n",
    "  \"\"\"\n",
    "\n",
    "translation_prompt = ChatPromptTemplate.from_template(translation_template)\n",
    "\n",
    "translation_chain = (\n",
    "  {\"answer\": chain, \"language\": itemgetter(\"language\") } | translation_prompt | model | parser\n",
    ")\n",
    "\n",
    "translation_chain.invoke({\n",
    "  \"context\": \"I have an appointment tomorrow at 3pm.\", \n",
    "  \"question\": \"Can I go for lunch tomorrow at 3:00PM?\",\n",
    "  \"language\": \"es\"\n",
    "})\n"
   ]
  },
  {
   "cell_type": "markdown",
   "metadata": {},
   "source": [
    "### Transcribing the YouTube Video"
   ]
  },
  {
   "cell_type": "code",
   "execution_count": 11,
   "metadata": {},
   "outputs": [
    {
     "ename": "TypeError",
     "evalue": "argument of type 'NoneType' is not iterable",
     "output_type": "error",
     "traceback": [
      "\u001b[1;31m---------------------------------------------------------------------------\u001b[0m",
      "\u001b[1;31mTypeError\u001b[0m                                 Traceback (most recent call last)",
      "Cell \u001b[1;32mIn[11], line 2\u001b[0m\n\u001b[0;32m      1\u001b[0m \u001b[38;5;28;01mimport\u001b[39;00m \u001b[38;5;21;01mtempfile\u001b[39;00m\n\u001b[1;32m----> 2\u001b[0m \u001b[38;5;28;01mimport\u001b[39;00m \u001b[38;5;21;01mwhisper\u001b[39;00m\n\u001b[0;32m      3\u001b[0m \u001b[38;5;28;01mfrom\u001b[39;00m \u001b[38;5;21;01mpytube\u001b[39;00m \u001b[38;5;28;01mimport\u001b[39;00m YouTube\n\u001b[0;32m      5\u001b[0m \u001b[38;5;28;01mif\u001b[39;00m \u001b[38;5;129;01mnot\u001b[39;00m os\u001b[38;5;241m.\u001b[39mpath\u001b[38;5;241m.\u001b[39mexists(\u001b[38;5;124m\"\u001b[39m\u001b[38;5;124mtranscription.txt\u001b[39m\u001b[38;5;124m\"\u001b[39m):\n",
      "File \u001b[1;32m~\\AppData\\Local\\Packages\\PythonSoftwareFoundation.Python.3.12_qbz5n2kfra8p0\\LocalCache\\local-packages\\Python312\\site-packages\\whisper.py:69\u001b[0m\n\u001b[0;32m     67\u001b[0m \u001b[38;5;28;01mif\u001b[39;00m CAN_FALLOCATE:\n\u001b[0;32m     68\u001b[0m   libc_name \u001b[38;5;241m=\u001b[39m ctypes\u001b[38;5;241m.\u001b[39mutil\u001b[38;5;241m.\u001b[39mfind_library(\u001b[38;5;124m'\u001b[39m\u001b[38;5;124mc\u001b[39m\u001b[38;5;124m'\u001b[39m)\n\u001b[1;32m---> 69\u001b[0m   libc \u001b[38;5;241m=\u001b[39m \u001b[43mctypes\u001b[49m\u001b[38;5;241;43m.\u001b[39;49m\u001b[43mCDLL\u001b[49m\u001b[43m(\u001b[49m\u001b[43mlibc_name\u001b[49m\u001b[43m)\u001b[49m\n\u001b[0;32m     70\u001b[0m   c_off64_t \u001b[38;5;241m=\u001b[39m ctypes\u001b[38;5;241m.\u001b[39mc_int64\n\u001b[0;32m     71\u001b[0m   c_off_t \u001b[38;5;241m=\u001b[39m ctypes\u001b[38;5;241m.\u001b[39mc_int\n",
      "File \u001b[1;32mC:\\Program Files\\WindowsApps\\PythonSoftwareFoundation.Python.3.12_3.12.752.0_x64__qbz5n2kfra8p0\\Lib\\ctypes\\__init__.py:369\u001b[0m, in \u001b[0;36mCDLL.__init__\u001b[1;34m(self, name, mode, handle, use_errno, use_last_error, winmode)\u001b[0m\n\u001b[0;32m    367\u001b[0m \u001b[38;5;28;01mimport\u001b[39;00m \u001b[38;5;21;01mnt\u001b[39;00m\n\u001b[0;32m    368\u001b[0m mode \u001b[38;5;241m=\u001b[39m nt\u001b[38;5;241m.\u001b[39m_LOAD_LIBRARY_SEARCH_DEFAULT_DIRS\n\u001b[1;32m--> 369\u001b[0m \u001b[38;5;28;01mif\u001b[39;00m \u001b[38;5;124;43m'\u001b[39;49m\u001b[38;5;124;43m/\u001b[39;49m\u001b[38;5;124;43m'\u001b[39;49m\u001b[43m \u001b[49m\u001b[38;5;129;43;01min\u001b[39;49;00m\u001b[43m \u001b[49m\u001b[43mname\u001b[49m \u001b[38;5;129;01mor\u001b[39;00m \u001b[38;5;124m'\u001b[39m\u001b[38;5;130;01m\\\\\u001b[39;00m\u001b[38;5;124m'\u001b[39m \u001b[38;5;129;01min\u001b[39;00m name:\n\u001b[0;32m    370\u001b[0m     \u001b[38;5;28mself\u001b[39m\u001b[38;5;241m.\u001b[39m_name \u001b[38;5;241m=\u001b[39m nt\u001b[38;5;241m.\u001b[39m_getfullpathname(\u001b[38;5;28mself\u001b[39m\u001b[38;5;241m.\u001b[39m_name)\n\u001b[0;32m    371\u001b[0m     mode \u001b[38;5;241m|\u001b[39m\u001b[38;5;241m=\u001b[39m nt\u001b[38;5;241m.\u001b[39m_LOAD_LIBRARY_SEARCH_DLL_LOAD_DIR\n",
      "\u001b[1;31mTypeError\u001b[0m: argument of type 'NoneType' is not iterable"
     ]
    }
   ],
   "source": [
    "import tempfile\n",
    "import whisper\n",
    "from pytube import YouTube\n",
    "\n",
    "if not os.path.exists(\"transcription.txt\"):\n",
    "  youtube = YouTube(YOUTUBE_VIDEO)\n",
    "  audio = youtube.streams.filter(only_audio=True).first()\n",
    "\n",
    "  whisper_model = whisper.load_model(\"base\")\n",
    "\n",
    "  with tempfile.TemporaryDirectory() as tmpdir:\n",
    "    file = audio.download(output_path=tmpdir)\n",
    "    transcroption = whisper_model.transcribe(file, fp16=False)[\"text\"].strip()\n",
    "\n",
    "    with open(\"transcription.txt\", \"w\") as f:\n",
    "      f.write(transcroption)"
   ]
  }
 ],
 "metadata": {
  "kernelspec": {
   "display_name": "Python 3",
   "language": "python",
   "name": "python3"
  },
  "language_info": {
   "codemirror_mode": {
    "name": "ipython",
    "version": 3
   },
   "file_extension": ".py",
   "mimetype": "text/x-python",
   "name": "python",
   "nbconvert_exporter": "python",
   "pygments_lexer": "ipython3",
   "version": "3.12.2"
  }
 },
 "nbformat": 4,
 "nbformat_minor": 2
}
